{
 "cells": [
  {
   "cell_type": "code",
   "execution_count": null,
   "metadata": {},
   "outputs": [],
   "source": [
    "import os"
   ]
  },
  {
   "cell_type": "code",
   "execution_count": null,
   "metadata": {},
   "outputs": [],
   "source": [
    "\"\"\"Transcription files for American English-speaking children \n",
    "           aged 0;6 - 3;11 at times of recordings\"\"\"\n",
    "\n",
    "all_direct = [\"/Users/ariel/OneDrive/Comp_ling/Child_word_freq_corpus/Bernstein\",\n",
    "              \"/Users/ariel/OneDrive/Comp_ling/Child_word_freq_corpus/Bohannon\",\n",
    "              \"/Users/ariel/OneDrive/Comp_ling/Child_word_freq_corpus/Brent\",\n",
    "              \"/Users/ariel/OneDrive/Comp_ling/Child_word_freq_corpus/Demetras1\",\n",
    "              \"/Users/ariel/OneDrive/Comp_ling/Child_word_freq_corpus/MacWhinney\",\n",
    "              \"/Users/ariel/OneDrive/Comp_ling/Child_word_freq_corpus/Soderstrom\",\n",
    "              \"/Users/ariel/OneDrive/Comp_ling/Child_word_freq_corpus/Tardif\",\n",
    "              \"/Users/ariel/OneDrive/Comp_ling/Child_word_freq_corpus/Demetras2\"]"
   ]
  },
  {
   "cell_type": "code",
   "execution_count": null,
   "metadata": {},
   "outputs": [],
   "source": [
    "import re\n",
    "from collections import Counter"
   ]
  },
  {
   "cell_type": "code",
   "execution_count": null,
   "metadata": {},
   "outputs": [],
   "source": [
    "frequency = Counter()\n",
    "full_file_names = []\n",
    "def read_files(x):\n",
    "    for file_name in os.listdir(x):\n",
    "        file_path = os.path.join(x, file_name)\n",
    "        if file_path[-4:] == '.cha':\n",
    "            full_file_names.append(file_path)\n",
    "            print(x)\n",
    "#print(read_files(all_direct))"
   ]
  },
  {
   "cell_type": "code",
   "execution_count": null,
   "metadata": {},
   "outputs": [],
   "source": [
    "frequency = Counter()\n",
    "\n",
    "for file_name in full_file_names:\n",
    "    with open(file_name,\"r\") as file_open:\n",
    "        for line in file_open: #loop that only gets lines that start with CHI. \n",
    "            if line.startswith(\"*CHI\"): # only want lines that begin with CHI for child. \n",
    "                words = re.findall(\"\\w+\", line.casefold()) #only want lines that follow *CHI and apply casefold.\n",
    "                frequency.update(words[1:]) #add to the counter by using .update().\n",
    "#print(frequency)"
   ]
  },
  {
   "cell_type": "code",
   "execution_count": null,
   "metadata": {},
   "outputs": [],
   "source": [
    "import nltk\n",
    "nltk.download('stopwords')\n",
    "nltk.download('punkt')\n",
    "\n",
    "from nltk.corpus import stopwords"
   ]
  },
  {
   "cell_type": "code",
   "execution_count": null,
   "metadata": {},
   "outputs": [],
   "source": [
    "freq_words = stop_words = set(stopwords.words('english')) | set(['xxx', 'um'])\n",
    "add_stop_words = freq_words\n",
    "\n",
    "def add_words(add_stop_words):\n",
    "    for word in words:\n",
    "        if word in add_stop_words:\n",
    "            filter_words.append(word)\n",
    "        else:\n",
    "            pass\n",
    "\n",
    "#print(add_stop_words)"
   ]
  },
  {
   "cell_type": "code",
   "execution_count": null,
   "metadata": {},
   "outputs": [],
   "source": [
    "for i in freq_words:\n",
    "    if '_' in i[0]: #exclude words that contain underscore.\n",
    "        print('---')\n",
    "    elif 'xxx' in i[0]: #exclude words that contain 'xxx'.\n",
    "        print('---')\n",
    "    elif '0' in i[0]: #exclude words that contain the number zero. \n",
    "        print('---')\n",
    "    else:\n",
    "        print(i[0])"
   ]
  },
  {
   "cell_type": "code",
   "execution_count": null,
   "metadata": {},
   "outputs": [],
   "source": []
  }
 ],
 "metadata": {
  "kernelspec": {
   "display_name": "Python 3",
   "language": "python",
   "name": "python3"
  },
  "language_info": {
   "codemirror_mode": {
    "name": "ipython",
    "version": 3
   },
   "file_extension": ".py",
   "mimetype": "text/x-python",
   "name": "python",
   "nbconvert_exporter": "python",
   "pygments_lexer": "ipython3",
   "version": "3.7.6"
  }
 },
 "nbformat": 4,
 "nbformat_minor": 4
}
